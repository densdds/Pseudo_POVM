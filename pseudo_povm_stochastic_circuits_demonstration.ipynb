{
  "nbformat": 4,
  "nbformat_minor": 0,
  "metadata": {
    "colab": {
      "name": "pseudo_povm_optimization_test.ipynb",
      "provenance": [],
      "collapsed_sections": []
    },
    "kernelspec": {
      "display_name": "Python 3",
      "name": "python3"
    }
  },
  "cells": [
    {
      "cell_type": "code",
      "metadata": {
        "id": "Dpr9ijUR4K38"
      },
      "source": [
        "from pseudo_povm_circuits import *\n",
        "import cmath\n",
        "import math\n",
        "import random\n",
        "import matplotlib.pyplot as plt"
      ],
      "execution_count": 1,
      "outputs": []
    },
    {
      "cell_type": "code",
      "metadata": {
        "id": "OfAnnOOS_fnE"
      },
      "source": [
        "#Define SIC-POVM\n",
        "sic_ten = tf.constant([[1/4,1/4,1/4],\n",
        "                       [-math.sqrt(3)/12, math.sqrt(3)/12, math.sqrt(3)/12],\n",
        "                       [math.sqrt(3)/12, -math.sqrt(3)/12, math.sqrt(3)/12],\n",
        "                       [math.sqrt(3)/12, math.sqrt(3)/12, -math.sqrt(3)/12]],\n",
        "                      dtype = tf.float64)\n",
        "sic_povm = PseudoPovm(sic_ten)"
      ],
      "execution_count": 2,
      "outputs": []
    },
    {
      "cell_type": "code",
      "metadata": {
        "id": "WI67ENNWfkDc"
      },
      "source": [
        "def generate_random_pseudo_povm():\n",
        "  '''Generates random pseudo POVM\n",
        "\n",
        "  Returns instance of PseudoPovm class\n",
        "  '''\n",
        "  \n",
        "  povm_ten = tf.random.normal([4, 3], dtype = tf.float64)\n",
        "  return PseudoPovm(povm_ten)"
      ],
      "execution_count": 3,
      "outputs": []
    },
    {
      "cell_type": "code",
      "metadata": {
        "id": "WnOF2r06aMSq"
      },
      "source": [
        "def total_negativity_optimization(circuit):\n",
        "  '''Finds pseudo POVM where total negativity of given circuit is minimal\n",
        "\n",
        "  Arguments\n",
        "  ---------\n",
        "  circuit : QubitCircuit \n",
        "\n",
        "  Returns instance of class PseudoPovm\n",
        "  '''\n",
        "\n",
        "\n",
        "  #=========================#\n",
        "  lr = 0.01 # learning rate\n",
        "  #=========================#\n",
        "  opt = tf.keras.optimizers.Adagrad(lr)\n",
        "\n",
        "  def neg(var):\n",
        "    povm = PseudoPovm(var)\n",
        "    return circuit.total_negativity(povm) \n",
        "\n",
        "  povm = sic_povm\n",
        "\n",
        "\n",
        "  var = povm.lam\n",
        "  var = tf.Variable(var)\n",
        "\n",
        "\n",
        "  #print(neg(var))\n",
        "\n",
        "  for i in range(2500):\n",
        "    with tf.GradientTape() as tape:\n",
        "\n",
        "      loss = neg(var)\n",
        "    grad = tape.gradient(loss, var) \n",
        "    opt.apply_gradients(zip([grad], [var]))  # minimization step\n",
        "  \n",
        "  lam = tf.complex(var,tf.zeros([4, 3], dtype = tf.float64))\n",
        "  return PseudoPovm(lam)"
      ],
      "execution_count": 4,
      "outputs": []
    },
    {
      "cell_type": "code",
      "metadata": {
        "id": "NWZYayk05FMX"
      },
      "source": [
        "# Initialize some single qubit gates\n",
        "X = sigma_x\n",
        "Y = sigma_y\n",
        "Z = sigma_z\n",
        "T = tf.constant([[1 ,0],[0, cmath.exp(1j * math.pi / 4)]], dtype=tf.complex128)\n",
        "H = tf.constant([[1,1],[1,-1]], dtype=tf.complex128) / math.sqrt(2)\n",
        "S = tf.constant([[1,0],[0,1j]],dtype=tf.complex128)"
      ],
      "execution_count": 5,
      "outputs": []
    },
    {
      "cell_type": "code",
      "metadata": {
        "id": "lDDkIpLkYD0P"
      },
      "source": [
        "#In this example we consider only gates from clifford group\n",
        "clifford_group = [T,S,H]"
      ],
      "execution_count": 6,
      "outputs": []
    },
    {
      "cell_type": "code",
      "metadata": {
        "id": "JaJ-s8X6pvgl"
      },
      "source": [
        "#Let's define set of pauli matrixes\n",
        "pauli = [X,Y,Z]"
      ],
      "execution_count": 7,
      "outputs": []
    },
    {
      "cell_type": "code",
      "metadata": {
        "id": "EWNG7UhwAgHW"
      },
      "source": [
        "def get_circuits_difference(gates_num):\n",
        "  \"\"\"\n",
        "  Calculates difference between fair circuit and its \n",
        "  stochastic approximation for given number of gates\n",
        "\n",
        "  Arguments\n",
        "  ---------\n",
        "  gates_num number of gates\n",
        "\n",
        "  Returns \n",
        "  -------\n",
        "  difference in sic_povm\n",
        "  difference in optimal pseudo povm\n",
        "  \"\"\"\n",
        "  gates = []\n",
        "  for i in range(gates_num):\n",
        "    gates.append(random.choice(pauli))\n",
        "  circuit = QubitCircuit(gates)\n",
        "  best_basis = total_negativity_optimization(circuit)\n",
        "  fair_opt_res = circuit.run_circuit(best_basis)\n",
        "  approx_opt_res = circuit.run_approx_circuit(best_basis)\n",
        "  fair_sic_res = circuit.run_circuit(sic_povm)\n",
        "  approx_sic_res = circuit.run_approx_circuit(sic_povm)\n",
        "  sic_diff = tf.linalg.norm(fair_sic_res - approx_sic_res, ord = 1)\n",
        "  opt_diff = tf.linalg.norm(fair_opt_res - approx_opt_res, ord = 1)\n",
        "  return sic_diff, opt_diff\n"
      ],
      "execution_count": 8,
      "outputs": []
    },
    {
      "cell_type": "code",
      "metadata": {
        "id": "m4h8rnnaPr-b"
      },
      "source": [
        "def get_negativity(gates_num):\n",
        "  \"\"\"\n",
        "  Calculates negativity for random circuits\n",
        "\n",
        "  Arguments\n",
        "  ---------\n",
        "  gates_num number of gates\n",
        "\n",
        "  Returns \n",
        "  -------\n",
        "  negativity in sic povm\n",
        "  negativity in optimal pseudo povm\n",
        "  \"\"\"\n",
        "  gates = []\n",
        "  for i in range(gates_num):\n",
        "    gates.append(random.choice(pauli))\n",
        "  circuit = QubitCircuit(gates)\n",
        "  opt_basis = total_negativity_optimization(circuit)\n",
        "  return circuit.total_negativity(sic_povm), circuit.total_negativity(opt_basis)\n"
      ],
      "execution_count": 9,
      "outputs": []
    },
    {
      "cell_type": "code",
      "metadata": {
        "id": "VKy0X7tADflQ"
      },
      "source": [
        "x = np.arange(3,8)\n",
        "y = np.zeros([len(x),2])\n",
        "for i in range(len(x)):\n",
        "  y[i] = get_circuits_difference(x[i])"
      ],
      "execution_count": 10,
      "outputs": []
    },
    {
      "cell_type": "code",
      "metadata": {
        "colab": {
          "base_uri": "https://localhost:8080/",
          "height": 295
        },
        "id": "5sohqV6BINAI",
        "outputId": "e81fcb74-4c64-4126-8e22-51e462ba6d25"
      },
      "source": [
        "plt.plot(x,y[:,0],label = 'difference in sic_povm')\n",
        "plt.plot(x,y[:,1],label = 'difference in optimal pseudo povm')\n",
        "plt.title('Difference between fair and approximated circuits in optimal basis')\n",
        "plt.ylabel('L1 norm (fair_circuit - approx_circuit)')\n",
        "plt.xlabel('Number of gates')\n",
        "plt.legend()\n",
        "plt.show()"
      ],
      "execution_count": 11,
      "outputs": [
        {
          "output_type": "display_data",
          "data": {
            "image/png": "[encoded data removed]",
            "text/plain": [
              "<Figure size 432x288 with 1 Axes>"
            ]
          },
          "metadata": {
            "tags": [],
            "needs_background": "light"
          }
        }
      ]
    },
    {
      "cell_type": "code",
      "metadata": {
        "id": "Cr33Kxy5QISB"
      },
      "source": [
        "y_neg = np.zeros([len(x),2])\n",
        "for i in range(len(x)):\n",
        "  y_neg[i] = get_negativity(x[i])"
      ],
      "execution_count": 12,
      "outputs": []
    },
    {
      "cell_type": "code",
      "metadata": {
        "colab": {
          "base_uri": "https://localhost:8080/",
          "height": 295
        },
        "id": "ZrmkFw7jQRtx",
        "outputId": "aa2285a4-c2a8-4363-8550-eb104049dc3f"
      },
      "source": [
        "plt.plot(x,y_neg[:,0],label = 'negativity in sic_povm')\n",
        "plt.plot(x,y_neg[:,1],label = 'negativity in optimal pseudo povm')\n",
        "plt.title('Negativity of circuits in optimal basis and sic povm')\n",
        "plt.ylabel('negativity')\n",
        "plt.xlabel('Number of gates')\n",
        "plt.legend()\n",
        "plt.show()"
      ],
      "execution_count": 13,
      "outputs": [
        {
          "output_type": "display_data",
          "data": {
            "image/png": "[encoded data removed]",
            "text/plain": [
              "<Figure size 432x288 with 1 Axes>"
            ]
          },
          "metadata": {
            "tags": [],
            "needs_background": "light"
          }
        }
      ]
    }
  ]
}