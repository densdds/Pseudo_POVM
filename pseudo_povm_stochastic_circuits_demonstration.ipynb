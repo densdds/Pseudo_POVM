{
  "nbformat": 4,
  "nbformat_minor": 0,
  "metadata": {
    "colab": {
      "name": "pseudo_povm_optimization_test.ipynb",
      "provenance": [],
      "collapsed_sections": []
    },
    "kernelspec": {
      "name": "python3",
      "display_name": "Python 3"
    }
  },
  "cells": [
    {
      "cell_type": "code",
      "metadata": {
        "id": "Dpr9ijUR4K38"
      },
      "source": [
        "from pseudo_povm_circuits import *\r\n",
        "import cmath\r\n",
        "import math\r\n",
        "import random"
      ],
      "execution_count": 15,
      "outputs": []
    },
    {
      "cell_type": "code",
      "metadata": {
        "id": "WI67ENNWfkDc"
      },
      "source": [
        "def generate_random_pseudo_povm():\r\n",
        "  '''Generates random pseudo POVM\r\n",
        "\r\n",
        "  Returns instance of PseudoPovm class\r\n",
        "  '''\r\n",
        "  \r\n",
        "  povm_ten = tf.random.normal([4, 3], dtype = tf.float64)\r\n",
        "  return PseudoPovm(povm_ten)"
      ],
      "execution_count": 2,
      "outputs": []
    },
    {
      "cell_type": "code",
      "metadata": {
        "id": "WnOF2r06aMSq"
      },
      "source": [
        "def total_negativity_optimization(circuit):\r\n",
        "  '''Finds pseudo POVM where total negativity of given circuit is minimal\r\n",
        "\r\n",
        "  Arguments\r\n",
        "  ---------\r\n",
        "  circuit : QubitCircuit \r\n",
        "\r\n",
        "  Returns instance of class PseudoPovm\r\n",
        "  '''\r\n",
        "\r\n",
        "\r\n",
        "  #=========================#\r\n",
        "  lr = 0.02 # learning rate\r\n",
        "  #=========================#\r\n",
        "  opt = tf.keras.optimizers.Adam(lr)\r\n",
        "\r\n",
        "  def neg(var):\r\n",
        "    povm = PseudoPovm(var)\r\n",
        "    return circuit.total_negativity(povm) \r\n",
        "\r\n",
        "  povm = generate_random_pseudo_povm()\r\n",
        "\r\n",
        "\r\n",
        "  var = povm.lam\r\n",
        "  var = tf.Variable(var)\r\n",
        "\r\n",
        "\r\n",
        "  #print(neg(var))\r\n",
        "\r\n",
        "  for i in range(1000):\r\n",
        "    with tf.GradientTape() as tape:\r\n",
        "\r\n",
        "      loss = neg(var)\r\n",
        "    grad = tape.gradient(loss, var) \r\n",
        "    opt.apply_gradients(zip([grad], [var]))  # minimization step\r\n",
        "  \r\n",
        "  lam = tf.complex(var,tf.zeros([4, 3], dtype = tf.float64))\r\n",
        "  return PseudoPovm(lam)"
      ],
      "execution_count": 3,
      "outputs": []
    },
    {
      "cell_type": "code",
      "metadata": {
        "id": "NWZYayk05FMX"
      },
      "source": [
        "# Initialize some single qubit gates\r\n",
        "X = sigma_x\r\n",
        "Y = sigma_y\r\n",
        "Z = sigma_z\r\n",
        "T = tf.constant([[1 ,0],[0, cmath.exp(1j * math.pi / 4)]], dtype=tf.complex128)\r\n",
        "H = tf.constant([[1,1],[1,-1]], dtype=tf.complex128) / math.sqrt(2)\r\n",
        "S = tf.constant([[1,0],[0,1j]],dtype=tf.complex128)"
      ],
      "execution_count": 4,
      "outputs": []
    },
    {
      "cell_type": "code",
      "metadata": {
        "id": "lDDkIpLkYD0P"
      },
      "source": [
        "#In this example we consider only gates from clifford group\r\n",
        "clifford_group = [T,S,H]"
      ],
      "execution_count": 14,
      "outputs": []
    },
    {
      "cell_type": "code",
      "metadata": {
        "id": "S3Vs6IaEYIYP"
      },
      "source": [
        "# Create random sequence of gates from cliffor group of length gates_num\r\n",
        "gates_num = 10\r\n",
        "gates = []\r\n",
        "for i in range(gates_num):\r\n",
        "  gates.append(random.choice(clifford_group))"
      ],
      "execution_count": 75,
      "outputs": []
    },
    {
      "cell_type": "code",
      "metadata": {
        "id": "7fjVOePn5K5Q"
      },
      "source": [
        "# Create pseudo POVM\r\n",
        "povm = generate_random_pseudo_povm()"
      ],
      "execution_count": 76,
      "outputs": []
    },
    {
      "cell_type": "code",
      "metadata": {
        "id": "butMUMHN61Uf"
      },
      "source": [
        "# Create quantum circuit\r\n",
        "circuit = QubitCircuit(gates)"
      ],
      "execution_count": 77,
      "outputs": []
    },
    {
      "cell_type": "code",
      "metadata": {
        "colab": {
          "base_uri": "https://localhost:8080/"
        },
        "id": "kz5G1kkZ67Rd",
        "outputId": "14fe6fef-42b8-4541-8ef1-eb3566ef1f0b"
      },
      "source": [
        "# Run circuit \r\n",
        "circuit.run_circuit(povm)"
      ],
      "execution_count": 78,
      "outputs": [
        {
          "output_type": "execute_result",
          "data": {
            "text/plain": [
              "<tf.Tensor: shape=(2,), dtype=float64, numpy=array([0.5, 0.5])>"
            ]
          },
          "metadata": {
            "tags": []
          },
          "execution_count": 78
        }
      ]
    },
    {
      "cell_type": "code",
      "metadata": {
        "colab": {
          "base_uri": "https://localhost:8080/"
        },
        "id": "rDjkuXnFPclO",
        "outputId": "b56d7d2c-e105-4419-96a2-86ddf085dc4d"
      },
      "source": [
        "circuit.run_approx_circuit(povm)"
      ],
      "execution_count": 80,
      "outputs": [
        {
          "output_type": "execute_result",
          "data": {
            "text/plain": [
              "<tf.Tensor: shape=(2,), dtype=float64, numpy=array([0., 1.])>"
            ]
          },
          "metadata": {
            "tags": []
          },
          "execution_count": 80
        }
      ]
    },
    {
      "cell_type": "code",
      "metadata": {
        "id": "oCqHwDff6_9y",
        "colab": {
          "base_uri": "https://localhost:8080/"
        },
        "outputId": "dd30f060-9c9c-40a7-8d66-8240c19dc6ab"
      },
      "source": [
        "# Check total negativity before optimization\r\n",
        "circuit.total_negativity(povm)"
      ],
      "execution_count": 81,
      "outputs": [
        {
          "output_type": "execute_result",
          "data": {
            "text/plain": [
              "<tf.Tensor: shape=(), dtype=float64, numpy=58.61914554325796>"
            ]
          },
          "metadata": {
            "tags": []
          },
          "execution_count": 81
        }
      ]
    },
    {
      "cell_type": "code",
      "metadata": {
        "id": "NHY4c35K7Ei5"
      },
      "source": [
        "# Find pseudo POVM where negativity is minimal\r\n",
        "optimal_basis = total_negativity_optimization(circuit)"
      ],
      "execution_count": 82,
      "outputs": []
    },
    {
      "cell_type": "code",
      "metadata": {
        "id": "4nzqNZ0t7hIB",
        "colab": {
          "base_uri": "https://localhost:8080/"
        },
        "outputId": "0cf82782-4880-4fe2-a868-30fb9734dfb8"
      },
      "source": [
        "# Let's check total negativity in nev pseudo POVM\r\n",
        "circuit.total_negativity(optimal_basis)"
      ],
      "execution_count": 83,
      "outputs": [
        {
          "output_type": "execute_result",
          "data": {
            "text/plain": [
              "<tf.Tensor: shape=(), dtype=float64, numpy=3.3239140665998623>"
            ]
          },
          "metadata": {
            "tags": []
          },
          "execution_count": 83
        }
      ]
    },
    {
      "cell_type": "code",
      "metadata": {
        "colab": {
          "base_uri": "https://localhost:8080/"
        },
        "id": "IuZ7KHcJPwAL",
        "outputId": "59267eba-ed60-4201-b223-74e71fa308d3"
      },
      "source": [
        "circuit.run_circuit(optimal_basis)"
      ],
      "execution_count": 84,
      "outputs": [
        {
          "output_type": "execute_result",
          "data": {
            "text/plain": [
              "<tf.Tensor: shape=(2,), dtype=float64, numpy=array([0.5, 0.5])>"
            ]
          },
          "metadata": {
            "tags": []
          },
          "execution_count": 84
        }
      ]
    },
    {
      "cell_type": "code",
      "metadata": {
        "colab": {
          "base_uri": "https://localhost:8080/"
        },
        "id": "4oJCfiTnP0f0",
        "outputId": "0b39d6df-b6da-46ca-fb9e-ee05cf4602e5"
      },
      "source": [
        "circuit.run_approx_circuit(optimal_basis)"
      ],
      "execution_count": 85,
      "outputs": [
        {
          "output_type": "execute_result",
          "data": {
            "text/plain": [
              "<tf.Tensor: shape=(2,), dtype=float64, numpy=array([0.53645158, 0.46354842])>"
            ]
          },
          "metadata": {
            "tags": []
          },
          "execution_count": 85
        }
      ]
    }
  ]
}