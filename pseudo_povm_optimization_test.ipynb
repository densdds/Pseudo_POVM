{
  "nbformat": 4,
  "nbformat_minor": 0,
  "metadata": {
    "colab": {
      "name": "pseudo_povm_optimization_test.ipynb",
      "provenance": [],
      "collapsed_sections": []
    },
    "kernelspec": {
      "name": "python3",
      "display_name": "Python 3"
    }
  },
  "cells": [
    {
      "cell_type": "code",
      "metadata": {
        "id": "Dpr9ijUR4K38"
      },
      "source": [
        "from pseudo_povm_circuits import *"
      ],
      "execution_count": 2,
      "outputs": []
    },
    {
      "cell_type": "code",
      "metadata": {
        "id": "WI67ENNWfkDc"
      },
      "source": [
        "def generate_random_pseudo_povm():\r\n",
        "  '''Generates random pseudo POVM\r\n",
        "\r\n",
        "  Returns instance of PseudoPovm class\r\n",
        "  '''\r\n",
        "  \r\n",
        "  povm_ten = tf.random.normal([4, 3], dtype = tf.float64)\r\n",
        "  return PseudoPovm(povm_ten)"
      ],
      "execution_count": 3,
      "outputs": []
    },
    {
      "cell_type": "code",
      "metadata": {
        "id": "WnOF2r06aMSq"
      },
      "source": [
        "def total_negativity_optimization(circuit):\r\n",
        "  '''Finds pseudo POVM where total negativity of given circuit is minimal\r\n",
        "\r\n",
        "  Arguments\r\n",
        "  ---------\r\n",
        "  circuit : QubitCircuit \r\n",
        "\r\n",
        "  Returns instance of class PseudoPovm\r\n",
        "  '''\r\n",
        "\r\n",
        "\r\n",
        "  #=========================#\r\n",
        "  lr = 0.02 # learning rate\r\n",
        "  #=========================#\r\n",
        "  opt = tf.keras.optimizers.Adam(lr)\r\n",
        "\r\n",
        "  def neg(var):\r\n",
        "    povm = PseudoPovm(var)\r\n",
        "    return circuit.total_negativity(povm) \r\n",
        "\r\n",
        "  povm = generate_random_pseudo_povm()\r\n",
        "\r\n",
        "\r\n",
        "  var = povm.lam\r\n",
        "  var = tf.Variable(var)\r\n",
        "\r\n",
        "\r\n",
        "  #print(neg(var))\r\n",
        "\r\n",
        "  for i in range(1000):\r\n",
        "    with tf.GradientTape() as tape:\r\n",
        "\r\n",
        "      loss = neg(var)\r\n",
        "    grad = tape.gradient(loss, var) \r\n",
        "    opt.apply_gradients(zip([grad], [var]))  # minimization step\r\n",
        "  \r\n",
        "  lam = tf.complex(var,tf.zeros([4, 3], dtype = tf.float64))\r\n",
        "  return PseudoPovm(lam)"
      ],
      "execution_count": 4,
      "outputs": []
    },
    {
      "cell_type": "code",
      "metadata": {
        "id": "NWZYayk05FMX"
      },
      "source": [
        "# Initialize some single qubit gates\r\n",
        "X = sigma_x\r\n",
        "Y = sigma_y\r\n",
        "Z = sigma_z\r\n",
        "T = tf.constant([[1 ,0],[0, cmath.exp(1j * math.pi / 4)]], dtype=tf.complex128)\r\n",
        "H = tf.constant([[1,1],[1,-1]], dtype=tf.complex128) / math.sqrt(2)\r\n",
        "S = tf.constant([[1,0],[0,1j]],dtype=tf.complex128)"
      ],
      "execution_count": 5,
      "outputs": []
    },
    {
      "cell_type": "code",
      "metadata": {
        "id": "7fjVOePn5K5Q"
      },
      "source": [
        "# Create pseudo POVM\r\n",
        "povm = generate_random_pseudo_povm()"
      ],
      "execution_count": 6,
      "outputs": []
    },
    {
      "cell_type": "code",
      "metadata": {
        "colab": {
          "base_uri": "https://localhost:8080/"
        },
        "id": "R6ohR1FfbzdJ",
        "outputId": "1d0482b7-5f1d-4f5f-de04-9baaf349744a"
      },
      "source": [
        "povm.get_pseudo_povm_in_comp_basis()"
      ],
      "execution_count": 7,
      "outputs": [
        {
          "output_type": "execute_result",
          "data": {
            "text/plain": [
              "<tf.Tensor: shape=(4, 2, 2), dtype=complex128, numpy=\n",
              "array([[[-2.80660541+0.j        , -0.83844745-0.84832814j],\n",
              "        [-0.83844745+0.84832814j,  0.16217345+0.j        ]],\n",
              "\n",
              "       [[-1.12653776+0.j        ,  1.68264056+0.52501243j],\n",
              "        [ 1.68264056-0.52501243j,  2.00688917+0.j        ]],\n",
              "\n",
              "       [[-0.85176496+0.j        , -0.34920447+0.06039737j],\n",
              "        [-0.34920447-0.06039737j, -0.82237792+0.j        ]],\n",
              "\n",
              "       [[ 5.78490814+0.j        , -0.49498864+0.26291833j],\n",
              "        [-0.49498864-0.26291833j, -0.3466847 +0.j        ]]])>"
            ]
          },
          "metadata": {
            "tags": []
          },
          "execution_count": 7
        }
      ]
    },
    {
      "cell_type": "code",
      "metadata": {
        "id": "butMUMHN61Uf"
      },
      "source": [
        "# Create quantum circuit\r\n",
        "circuit = QubitCircuit([X,Y,H])"
      ],
      "execution_count": 8,
      "outputs": []
    },
    {
      "cell_type": "code",
      "metadata": {
        "colab": {
          "base_uri": "https://localhost:8080/"
        },
        "id": "kz5G1kkZ67Rd",
        "outputId": "f43dafbc-7b23-4b1c-d397-e4bf212633b4"
      },
      "source": [
        "# Run circuit \r\n",
        "circuit.run_circuit(povm)"
      ],
      "execution_count": 9,
      "outputs": [
        {
          "output_type": "execute_result",
          "data": {
            "text/plain": [
              "<tf.Tensor: shape=(2,), dtype=float64, numpy=array([0.5, 0.5])>"
            ]
          },
          "metadata": {
            "tags": []
          },
          "execution_count": 9
        }
      ]
    },
    {
      "cell_type": "code",
      "metadata": {
        "id": "oCqHwDff6_9y",
        "colab": {
          "base_uri": "https://localhost:8080/"
        },
        "outputId": "da02abb4-98dd-411e-e583-d9d0ebbe7968"
      },
      "source": [
        "# Check total negativity before optimization\r\n",
        "circuit.total_negativity(povm)"
      ],
      "execution_count": 10,
      "outputs": [
        {
          "output_type": "execute_result",
          "data": {
            "text/plain": [
              "<tf.Tensor: shape=(), dtype=float64, numpy=19.34422559578541>"
            ]
          },
          "metadata": {
            "tags": []
          },
          "execution_count": 10
        }
      ]
    },
    {
      "cell_type": "code",
      "metadata": {
        "id": "NHY4c35K7Ei5"
      },
      "source": [
        "# Find pseudo POVM where negativity is minimal\r\n",
        "optimal_basis = total_negativity_optimization(circuit)"
      ],
      "execution_count": 11,
      "outputs": []
    },
    {
      "cell_type": "code",
      "metadata": {
        "id": "4nzqNZ0t7hIB",
        "colab": {
          "base_uri": "https://localhost:8080/"
        },
        "outputId": "35ae2865-fe80-425e-9fa8-b75b95dc6b7a"
      },
      "source": [
        "# Let's check total negativity in nev pseudo POVM\r\n",
        "circuit.total_negativity(optimal_basis)"
      ],
      "execution_count": 12,
      "outputs": [
        {
          "output_type": "execute_result",
          "data": {
            "text/plain": [
              "<tf.Tensor: shape=(), dtype=float64, numpy=2.1163490295629472>"
            ]
          },
          "metadata": {
            "tags": []
          },
          "execution_count": 12
        }
      ]
    }
  ]
}