{
  "nbformat": 4,
  "nbformat_minor": 0,
  "metadata": {
    "colab": {
      "name": "pseudo_povm_optimization_test.ipynb",
      "provenance": [],
      "collapsed_sections": []
    },
    "kernelspec": {
      "name": "python3",
      "display_name": "Python 3"
    }
  },
  "cells": [
    {
      "cell_type": "code",
      "metadata": {
        "id": "Dpr9ijUR4K38"
      },
      "source": [
        "from pseudo_povm_circuits import *\r\n",
        "import cmath\r\n",
        "import math"
      ],
      "execution_count": 9,
      "outputs": []
    },
    {
      "cell_type": "code",
      "metadata": {
        "id": "WI67ENNWfkDc"
      },
      "source": [
        "def generate_random_pseudo_povm():\r\n",
        "  '''Generates random pseudo POVM\r\n",
        "\r\n",
        "  Returns instance of PseudoPovm class\r\n",
        "  '''\r\n",
        "  \r\n",
        "  povm_ten = tf.random.normal([4, 3], dtype = tf.float64)\r\n",
        "  return PseudoPovm(povm_ten)"
      ],
      "execution_count": 10,
      "outputs": []
    },
    {
      "cell_type": "code",
      "metadata": {
        "id": "WnOF2r06aMSq"
      },
      "source": [
        "def total_negativity_optimization(circuit):\r\n",
        "  '''Finds pseudo POVM where total negativity of given circuit is minimal\r\n",
        "\r\n",
        "  Arguments\r\n",
        "  ---------\r\n",
        "  circuit : QubitCircuit \r\n",
        "\r\n",
        "  Returns instance of class PseudoPovm\r\n",
        "  '''\r\n",
        "\r\n",
        "\r\n",
        "  #=========================#\r\n",
        "  lr = 0.02 # learning rate\r\n",
        "  #=========================#\r\n",
        "  opt = tf.keras.optimizers.Adam(lr)\r\n",
        "\r\n",
        "  def neg(var):\r\n",
        "    povm = PseudoPovm(var)\r\n",
        "    return circuit.total_negativity(povm) \r\n",
        "\r\n",
        "  povm = generate_random_pseudo_povm()\r\n",
        "\r\n",
        "\r\n",
        "  var = povm.lam\r\n",
        "  var = tf.Variable(var)\r\n",
        "\r\n",
        "\r\n",
        "  #print(neg(var))\r\n",
        "\r\n",
        "  for i in range(1000):\r\n",
        "    with tf.GradientTape() as tape:\r\n",
        "\r\n",
        "      loss = neg(var)\r\n",
        "    grad = tape.gradient(loss, var) \r\n",
        "    opt.apply_gradients(zip([grad], [var]))  # minimization step\r\n",
        "  \r\n",
        "  lam = tf.complex(var,tf.zeros([4, 3], dtype = tf.float64))\r\n",
        "  return PseudoPovm(lam)"
      ],
      "execution_count": 11,
      "outputs": []
    },
    {
      "cell_type": "code",
      "metadata": {
        "id": "NWZYayk05FMX"
      },
      "source": [
        "# Initialize some single qubit gates\r\n",
        "X = sigma_x\r\n",
        "Y = sigma_y\r\n",
        "Z = sigma_z\r\n",
        "T = tf.constant([[1 ,0],[0, cmath.exp(1j * math.pi / 4)]], dtype=tf.complex128)\r\n",
        "H = tf.constant([[1,1],[1,-1]], dtype=tf.complex128) / math.sqrt(2)\r\n",
        "S = tf.constant([[1,0],[0,1j]],dtype=tf.complex128)"
      ],
      "execution_count": 12,
      "outputs": []
    },
    {
      "cell_type": "code",
      "metadata": {
        "id": "7fjVOePn5K5Q"
      },
      "source": [
        "# Create pseudo POVM\r\n",
        "povm = generate_random_pseudo_povm()"
      ],
      "execution_count": 13,
      "outputs": []
    },
    {
      "cell_type": "code",
      "metadata": {
        "colab": {
          "base_uri": "https://localhost:8080/"
        },
        "id": "R6ohR1FfbzdJ",
        "outputId": "c058a192-675e-4ee6-d65a-42cdcef6e99a"
      },
      "source": [
        "povm.get_pseudo_povm_in_comp_basis()"
      ],
      "execution_count": 14,
      "outputs": [
        {
          "output_type": "execute_result",
          "data": {
            "text/plain": [
              "<tf.Tensor: shape=(4, 2, 2), dtype=complex128, numpy=\n",
              "array([[[ 1.05580108e+00+0.j        , -1.51188362e+00+0.07748226j],\n",
              "        [-1.51188362e+00-0.07748226j, -1.35561061e+00+0.j        ]],\n",
              "\n",
              "       [[ 7.75041129e-01+0.j        , -5.11341818e-01+0.00522882j],\n",
              "        [-5.11341818e-01-0.00522882j,  1.16968443e+00+0.j        ]],\n",
              "\n",
              "       [[ 3.52813960e-01+0.j        ,  2.02364469e+00+0.0701305j ],\n",
              "        [ 2.02364469e+00-0.0701305j ,  9.93286761e-01+0.j        ]],\n",
              "\n",
              "       [[-1.18365617e+00+0.j        , -4.19255546e-04-0.15284157j],\n",
              "        [-4.19255546e-04+0.15284157j,  1.92639420e-01+0.j        ]]])>"
            ]
          },
          "metadata": {
            "tags": []
          },
          "execution_count": 14
        }
      ]
    },
    {
      "cell_type": "code",
      "metadata": {
        "id": "butMUMHN61Uf"
      },
      "source": [
        "# Create quantum circuit\r\n",
        "circuit = QubitCircuit([X,Y,H])"
      ],
      "execution_count": 15,
      "outputs": []
    },
    {
      "cell_type": "code",
      "metadata": {
        "colab": {
          "base_uri": "https://localhost:8080/"
        },
        "id": "kz5G1kkZ67Rd",
        "outputId": "a3e8f1dd-3cdd-432f-9a5b-a25a8fe225a8"
      },
      "source": [
        "# Run circuit \r\n",
        "circuit.run_circuit(povm)"
      ],
      "execution_count": 16,
      "outputs": [
        {
          "output_type": "execute_result",
          "data": {
            "text/plain": [
              "<tf.Tensor: shape=(2,), dtype=float64, numpy=array([0.5, 0.5])>"
            ]
          },
          "metadata": {
            "tags": []
          },
          "execution_count": 16
        }
      ]
    },
    {
      "cell_type": "code",
      "metadata": {
        "id": "oCqHwDff6_9y",
        "colab": {
          "base_uri": "https://localhost:8080/"
        },
        "outputId": "797f16c1-8d54-4076-cb0f-b4837fc4ac90"
      },
      "source": [
        "# Check total negativity before optimization\r\n",
        "circuit.total_negativity(povm)"
      ],
      "execution_count": 17,
      "outputs": [
        {
          "output_type": "execute_result",
          "data": {
            "text/plain": [
              "<tf.Tensor: shape=(), dtype=float64, numpy=10.580866833241403>"
            ]
          },
          "metadata": {
            "tags": []
          },
          "execution_count": 17
        }
      ]
    },
    {
      "cell_type": "code",
      "metadata": {
        "id": "NHY4c35K7Ei5"
      },
      "source": [
        "# Find pseudo POVM where negativity is minimal\r\n",
        "optimal_basis = total_negativity_optimization(circuit)"
      ],
      "execution_count": 18,
      "outputs": []
    },
    {
      "cell_type": "code",
      "metadata": {
        "id": "4nzqNZ0t7hIB",
        "colab": {
          "base_uri": "https://localhost:8080/"
        },
        "outputId": "d1e1dedb-8b17-4efe-c936-050397e59f7d"
      },
      "source": [
        "# Let's check total negativity in nev pseudo POVM\r\n",
        "circuit.total_negativity(optimal_basis)"
      ],
      "execution_count": 19,
      "outputs": [
        {
          "output_type": "execute_result",
          "data": {
            "text/plain": [
              "<tf.Tensor: shape=(), dtype=float64, numpy=2.1292528167329907>"
            ]
          },
          "metadata": {
            "tags": []
          },
          "execution_count": 19
        }
      ]
    }
  ]
}